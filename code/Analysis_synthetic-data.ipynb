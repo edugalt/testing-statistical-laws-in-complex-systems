{
 "cells": [
  {
   "cell_type": "code",
   "execution_count": 3,
   "metadata": {},
   "outputs": [],
   "source": [
    "import sys, os\n",
    "import numpy as np\n",
    "import matplotlib.pyplot as plt\n",
    "import pandas as pd\n",
    "\n",
    "%matplotlib inline\n",
    "%load_ext autoreload\n",
    "%autoreload 2\n",
    "import matplotlib.cm as cm\n",
    "cmap = cm.tab10\n"
   ]
  },
  {
   "cell_type": "code",
   "execution_count": 87,
   "metadata": {
    "collapsed": true,
    "jupyter": {
     "outputs_hidden": true
    }
   },
   "outputs": [],
   "source": [
    "## custom packages\n",
    "src_dir = os.path.join(os.pardir,'src')\n",
    "sys.path[0] = src_dir\n",
    "\n",
    "from data_io_ts import *\n",
    "from stats import xdata_to_xnx, x_autocorr_sm_ext, determine_tau\n",
    "from powerlaw_fit import *"
   ]
  },
  {
   "cell_type": "markdown",
   "metadata": {},
   "source": [
    "# Plot setup"
   ]
  },
  {
   "cell_type": "code",
   "execution_count": 5,
   "metadata": {},
   "outputs": [
    {
     "name": "stderr",
     "output_type": "stream",
     "text": [
      "/home/martin/anaconda3/envs/fitting/lib/python3.6/site-packages/matplotlib/__init__.py:800: MatplotlibDeprecationWarning: text.fontsize is deprecated and replaced with font.size; please use the latter.\n",
      "  mplDeprecation)\n"
     ]
    }
   ],
   "source": [
    "###########\n",
    "## Setup ##\n",
    "###########\n",
    "# number of pt for column in latex-document\n",
    "fig_width_pt = 510  # single-column:510, double-column: 246; Get this from LaTeX using \\showthe\\columnwidth\n",
    "inches_per_pt = 1.1/72.27 # Convert pt to inches\n",
    "width_vs_height = (np.sqrt(5)-1.0)/2.#(np.sqrt(5)-1.0)/2.0 # Ratio of height/width [(np.sqrt(5)-1.0)/2.0]\n",
    "fig_width = fig_width_pt*inches_per_pt  # width in inches\n",
    "fig_height = width_vs_height*fig_width  # height in inches\n",
    "fig_size = [fig_width,fig_height]\n",
    "\n",
    "# here you can set the parameters of the plot (fontsizes,...) in pt\n",
    "params = {'backend': 'ps',\n",
    "          'axes.titlesize':16,\n",
    "          'axes.labelsize': 16,\n",
    "          'text.fontsize': 16,\n",
    "          'legend.fontsize': 16,\n",
    "#           'figtext.fontsize': 12,\n",
    "          'xtick.labelsize': 16,\n",
    "          'ytick.labelsize': 16,\n",
    "          \n",
    "          'text.usetex': True,\n",
    "          'ps.usedistiller' : 'xpdf',\n",
    "          'figure.figsize': fig_size,\n",
    "          'text.latex.unicode':True,\n",
    "          'text.latex.preamble': [r'\\usepackage{bm}'],\n",
    "          \n",
    "          'xtick.direction':'out',\n",
    "          'ytick.direction':'out',\n",
    "          \n",
    "          'axes.spines.right' : False,\n",
    "          'axes.spines.top' : False\n",
    "         }\n",
    "plt.rcParams.update(params)\n",
    "\n",
    "\n",
    "lw = 2\n",
    "ms = 2"
   ]
  },
  {
   "cell_type": "markdown",
   "metadata": {},
   "source": [
    "# Get a dataset:\n",
    "\n",
    "We generate synthetic data that follows a power-law:\n",
    "\n",
    "$p(x) \\propto x^{-\\alpha }$.\n",
    "\n",
    "The data is generated using a Markov-process such that we can include correlations via a paramter $\\mu$.\n",
    "\n",
    "In the paper, we use $\\mu = 0.01$.\n",
    "\n",
    "For $\\mu = 1$, we recover the case of independently sampled data. "
   ]
  },
  {
   "cell_type": "code",
   "execution_count": 24,
   "metadata": {},
   "outputs": [],
   "source": [
    "label = 'mcmc_zipf'\n",
    "k = 5 ## number of neighbors for correlated step\n",
    "Ntypes = 10**3 ## maximum number of symbols\n",
    "Ntokens = 10**5 ## number of samples\n",
    "alpha = 1.5 ## powerlaw exponent\n",
    "mu = 0.01 ## correlation parameter\n",
    "# list_mu = [0.01,1.0] ## correlated and uncorrelated case\n",
    "\n",
    "dict_args = {'Ntypes':Ntypes,\n",
    "             'Ntokens':Ntokens,\n",
    "             'alpha':alpha,\n",
    "             'mu':mu,\n",
    "             'k':k,\n",
    "             'src_dir':src_dir,\n",
    "     }\n",
    "x_data = get_xdata_ts_wrapper(label,dict_args)\n"
   ]
  },
  {
   "cell_type": "markdown",
   "metadata": {},
   "source": [
    "# Plot the distribution and the fit\n"
   ]
  },
  {
   "cell_type": "code",
   "execution_count": 25,
   "metadata": {
    "collapsed": true,
    "jupyter": {
     "outputs_hidden": true
    }
   },
   "outputs": [],
   "source": [
    "## Empirical distribution\n",
    "xmin = 1\n",
    "xmax = Ntypes\n",
    "x,nx = xdata_to_xnx(x_data,norm=False,xmin=xmin,xmax=xmax)\n",
    "\n",
    "N = np.sum(nx)\n",
    "px = nx/N\n",
    "Fx = 1-np.cumsum(px)\n",
    "\n",
    "## Fit: powerlaw\n",
    "\n",
    "result = fit_power_disc_sign(x,nx,xmin=xmin,xmax=xmax)\n",
    "alpha = result['alpha']\n",
    "px_fit = pdf_power_disc(x,xmin,xmax,alpha)\n",
    "Fx_fit = cdf_power_disc(x,xmin,xmax,alpha)"
   ]
  },
  {
   "cell_type": "code",
   "execution_count": 30,
   "metadata": {},
   "outputs": [
    {
     "data": {
      "text/plain": [
       "Text(0.6,0.6,'$\\\\propto x^{-\\\\alpha}$')"
      ]
     },
     "execution_count": 30,
     "metadata": {},
     "output_type": "execute_result"
    },
    {
     "data": {
      "image/png": "[encoded data removed]",
      "text/plain": [
       "<matplotlib.figure.Figure at 0x7ff46b5679e8>"
      ]
     },
     "metadata": {},
     "output_type": "display_data"
    }
   ],
   "source": [
    "fig, ax = plt.subplots(nrows=1, ncols=1)#, figsize=fig_size)\n",
    "\n",
    "## Plot the distribution\n",
    "x_ = x\n",
    "y_ = px\n",
    "\n",
    "c_ = cmap(0)\n",
    "ax.plot(x_,y_,marker='o',ms=0,lw=2,c = c_,label = 'Data')\n",
    "\n",
    "## Plot the fit\n",
    "c_ = cmap(1)\n",
    "x_ = x\n",
    "y_ = px_fit\n",
    "plt.plot(x_,y_,lw=2,c=c_, label = 'Fit powerlaw')\n",
    "\n",
    "## Plot the truth\n",
    "c_ = 'black'\n",
    "x_ = np.arange(1,Ntypes+1,1)\n",
    "y_ = x_**(-alpha)\n",
    "y_ /= np.sum(y_)\n",
    "plt.plot(x_,y_,lw=2,c=c_, ls=':', label = 'True powerlaw')\n",
    "\n",
    "\n",
    "## Layout stuff\n",
    "ax.legend(loc='lower left')\n",
    "\n",
    "ax.set_xscale('log')\n",
    "ax.set_yscale('log')\n",
    "\n",
    "# ax.set_xlim(1,1000)\n",
    "# ax.set_ylim(10**(-5),1.2)\n",
    "\n",
    "ax.set_xlabel(r'$x$')#,labelpad=0)\n",
    "ax.set_ylabel(r'$p(x)$')\n",
    "ax.set_title(r'Synthetic Data: $\\mu = %s$'%(mu))\n",
    "\n",
    "x_annot_formula = 0.6\n",
    "y_annot_formula = 0.6\n",
    "ax.annotate(r'$\\propto x^{-\\alpha}$',xy=(x_annot_formula,y_annot_formula),xycoords = 'axes fraction')#,size=8)"
   ]
  },
  {
   "cell_type": "markdown",
   "metadata": {},
   "source": [
    "# Autocorrelation function\n",
    "\n",
    "Note that we are taking the $\\log x$ to calculate the autocorrelation (this leads to a more conservative estimation of $\\tau^*)$.\n",
    "\n",
    "Note that different realizations can lead to different autocorrelation times."
   ]
  },
  {
   "cell_type": "code",
   "execution_count": 31,
   "metadata": {},
   "outputs": [
    {
     "name": "stdout",
     "output_type": "stream",
     "text": [
      "Autocorrelation time:  272\n"
     ]
    }
   ],
   "source": [
    "nrep = 10**3\n",
    "q1,q2 = 1,99\n",
    "result = x_autocorr_sm_ext(np.log(x_data),nrep=nrep,q=[q1,q2])\n",
    "x = result['tau']\n",
    "y_mu,y_1,y_2 = result['C']\n",
    "y_mu_rand,y_1_rand,y_2_rand = result['C_rand']\n",
    "\n",
    "## here we calculate from t=0,1,...,t^* where t^* is the first point\n",
    "## where true C(t) is within the q-percentiles of the random\n",
    "\n",
    "# ind_t_star = np.where( (y_mu<=y_2_rand)&(y_mu>=y_1_rand) )[0][1]\n",
    "ind_t_star = np.where(y_1<=y_2_rand)[0][2]\n",
    "tau_star = x[ind_t_star]\n",
    "\n",
    "print('Autocorrelation time: ',tau_star)\n",
    "\n"
   ]
  },
  {
   "cell_type": "code",
   "execution_count": 34,
   "metadata": {},
   "outputs": [
    {
     "data": {
      "text/plain": [
       "Text(0.8,0.6,'$\\\\tau^*=272$')"
      ]
     },
     "execution_count": 34,
     "metadata": {},
     "output_type": "execute_result"
    },
    {
     "data": {
      "image/png": "[encoded data removed]",
      "text/plain": [
       "<matplotlib.figure.Figure at 0x7ff46b4e8e80>"
      ]
     },
     "metadata": {},
     "output_type": "display_data"
    }
   ],
   "source": [
    "fig, ax = plt.subplots(nrows=1, ncols=1)#, figsize=fig_size)\n",
    "\n",
    "alpha_val = .5\n",
    "## Plot the empirical autocorrelation\n",
    "x_ = x\n",
    "y_ = y_mu\n",
    "z1_ = y_1\n",
    "z2_ = y_2\n",
    "c_ = cmap(0)\n",
    "ax.plot(x_,y_,c = c_,lw=lw, label = 'Data')\n",
    "ax.fill_between(x_,z1_,z2_,color=c_,alpha=alpha_val,lw=0)\n",
    "\n",
    "\n",
    "\n",
    "## Plot the randomized autocorrelation\n",
    "x_ = x\n",
    "y_ = y_mu_rand\n",
    "z1_ = y_1_rand\n",
    "z2_ = y_2_rand\n",
    "c_ = cmap(1)\n",
    "ax.plot(x_,y_,c = c_,lw=lw, label = 'Randomized')\n",
    "ax.fill_between(x_,z1_,z2_,color=c_,alpha=alpha_val,lw=0)\n",
    "\n",
    "\n",
    "ax.plot([tau_star,tau_star],[-1,1],lw=1,color='black',ls=':')\n",
    "\n",
    "\n",
    "## Layout stuff\n",
    "ax.legend(loc='upper right')\n",
    "\n",
    "ax.set_xscale('log')\n",
    "# ax.set_yscale('log')\n",
    "\n",
    "ax.set_xlabel(r'Time Lag, $\\tau$')#,labelpad=0)\n",
    "ax.set_ylabel(r'$C(\\tau)$')\n",
    "ax.set_ylim(-0.1,1.)\n",
    "\n",
    "\n",
    "x_annot_tau = 0.8\n",
    "y_annot_tau = 0.6\n",
    "ax.annotate(r'$\\tau^*=%s$'%(int(tau_star)),xy=(x_annot_tau,y_annot_tau),xycoords = 'axes fraction')\n",
    "\n",
    "\n"
   ]
  },
  {
   "cell_type": "code",
   "execution_count": null,
   "metadata": {
    "collapsed": true,
    "jupyter": {
     "outputs_hidden": true
    }
   },
   "outputs": [],
   "source": []
  },
  {
   "cell_type": "code",
   "execution_count": null,
   "metadata": {
    "collapsed": true,
    "jupyter": {
     "outputs_hidden": true
    }
   },
   "outputs": [],
   "source": []
  },
  {
   "cell_type": "markdown",
   "metadata": {},
   "source": [
    "# Subsampling the data"
   ]
  },
  {
   "cell_type": "markdown",
   "metadata": {},
   "source": [
    "### p-value for the original dataset"
   ]
  },
  {
   "cell_type": "code",
   "execution_count": 35,
   "metadata": {},
   "outputs": [
    {
     "name": "stdout",
     "output_type": "stream",
     "text": [
      "Original dataset. N = 100001\n",
      "Empirical p-value from 100 synthetic datasets:  0.0\n"
     ]
    }
   ],
   "source": [
    "nrep_synth = 100 ## number of synthetic datasets to generate for empirical p-value\n",
    "\n",
    "x,nx = xdata_to_xnx(x_data,norm=False,xmin=xmin,xmax=xmax)\n",
    "\n",
    "result = fit_power_disc_sign(x,nx,xmin=xmin,xmax=xmax,nrep_synth=nrep_synth)\n",
    "\n",
    "alpha = result['alpha'] ## fitted parameter alpha\n",
    "pval = result['pval'] ## p-value\n",
    "KS = result['KS'] ## KS-distance\n",
    "\n",
    "print('Original dataset. N = %s'%(N))\n",
    "print('Empirical p-value from %s synthetic datasets: '%(nrep_synth), pval)"
   ]
  },
  {
   "cell_type": "markdown",
   "metadata": {},
   "source": [
    "### p-value from subsampled dataset\n",
    "\n",
    "Note that the subsampling generates different datasets each time; therefore there will be variability in the measured p-value"
   ]
  },
  {
   "cell_type": "code",
   "execution_count": 36,
   "metadata": {},
   "outputs": [
    {
     "name": "stdout",
     "output_type": "stream",
     "text": [
      "Subsampled dataset: n = 367 (n/N ~ 0.003676470588235294)\n",
      "Empirical p-value from 100 synthetic datasets:  0.89\n"
     ]
    }
   ],
   "source": [
    "p_sub = 1./tau_star ## 0 ... 1 (keep nothing ... keep all); we set 1/tau_star\n",
    "N_sub = int(p_sub*N)\n",
    "nrep_synth = 100 ## number of synthetic datasets to generate for empirical p-value\n",
    "\n",
    "\n",
    "## subsample -- take N_sub samples from x_data without replacement\n",
    "x_data_sub = np.random.choice(x_data,size=N_sub,replace=False)\n",
    "x,nx = xdata_to_xnx(x_data_sub,norm=False,xmin=xmin,xmax=xmax)\n",
    "result = fit_power_disc_sign(x,nx,xmin=xmin,xmax=xmax,nrep_synth=nrep_synth)\n",
    "\n",
    "alpha = result['alpha'] ## fitted parameter alpha\n",
    "pval = result['pval'] ## p-value\n",
    "KS = result['KS'] ## KS-distance\n",
    "\n",
    "print(r'Subsampled dataset: n = %s (n/N ~ %s)'%(N_sub,p_sub)) \n",
    "print('Empirical p-value from %s synthetic datasets: '%(nrep_synth), pval)"
   ]
  },
  {
   "cell_type": "code",
   "execution_count": null,
   "metadata": {
    "collapsed": true,
    "jupyter": {
     "outputs_hidden": true
    }
   },
   "outputs": [],
   "source": []
  },
  {
   "cell_type": "code",
   "execution_count": null,
   "metadata": {
    "collapsed": true,
    "jupyter": {
     "outputs_hidden": true
    }
   },
   "outputs": [],
   "source": []
  },
  {
   "cell_type": "code",
   "execution_count": null,
   "metadata": {
    "collapsed": true,
    "jupyter": {
     "outputs_hidden": true
    }
   },
   "outputs": [],
   "source": []
  },
  {
   "cell_type": "markdown",
   "metadata": {},
   "source": [
    "# Compare correlated and uncorrelated data"
   ]
  },
  {
   "cell_type": "code",
   "execution_count": 38,
   "metadata": {
    "collapsed": true,
    "jupyter": {
     "outputs_hidden": true
    }
   },
   "outputs": [],
   "source": [
    "list_mu = [0.01,1.0] ## correlated and uncorrelated case\n",
    "\n",
    "\n",
    "label = 'mcmc_zipf'\n",
    "k = 5 ## number of neighbors for correlated step\n",
    "Ntypes = 10**3 ## maximum number of symbols\n",
    "Ntokens = 10**5 ## number of samples\n",
    "alpha = 1.5 ## powerlaw exponent"
   ]
  },
  {
   "cell_type": "code",
   "execution_count": 41,
   "metadata": {},
   "outputs": [
    {
     "data": {
      "text/plain": [
       "Text(0.6,0.6,'$\\\\propto x^{-\\\\alpha}$')"
      ]
     },
     "execution_count": 41,
     "metadata": {},
     "output_type": "execute_result"
    },
    {
     "data": {
      "image/png": "[encoded data removed]",
      "text/plain": [
       "<matplotlib.figure.Figure at 0x7ff46b0fd0b8>"
      ]
     },
     "metadata": {},
     "output_type": "display_data"
    }
   ],
   "source": [
    "fig, ax = plt.subplots(nrows=1, ncols=1)#, figsize=fig_size)\n",
    "\n",
    "\n",
    "for i_mu , mu in enumerate(list_mu):\n",
    "    dict_args = {'Ntypes':Ntypes,\n",
    "             'Ntokens':Ntokens,\n",
    "             'alpha':alpha,\n",
    "             'mu':mu,\n",
    "             'k':k,\n",
    "             'src_dir':src_dir,\n",
    "     }\n",
    "    x_data = get_xdata_ts_wrapper(label,dict_args)\n",
    "    xmin = 1\n",
    "    xmax = Ntypes\n",
    "    x,nx = xdata_to_xnx(x_data,norm=False,xmin=xmin,xmax=xmax)\n",
    "\n",
    "    N = np.sum(nx)\n",
    "    px = nx/N\n",
    "    \n",
    "    \n",
    "\n",
    "    ## Plot the distribution\n",
    "    x_ = x\n",
    "    y_ = px\n",
    "\n",
    "    c_ = cmap(i_mu)\n",
    "    if mu == 1.:\n",
    "        l_ = 'Uncorrelated Data'\n",
    "    else:\n",
    "        l_ = 'Correlated Data'\n",
    "    ax.plot(x_,y_,marker='o',ms=0,lw=2,c = c_,label = l_,alpha=0.8)\n",
    "\n",
    "## Plot the truth\n",
    "c_ = 'black'\n",
    "x_ = np.arange(1,Ntypes+1,1)\n",
    "y_ = x_**(-alpha)\n",
    "y_ /= np.sum(y_)\n",
    "plt.plot(x_,y_,lw=2,c=c_, ls=':', label = 'True powerlaw')\n",
    "\n",
    "\n",
    "## Layout stuff\n",
    "ax.legend(loc='lower left')\n",
    "\n",
    "ax.set_xscale('log')\n",
    "ax.set_yscale('log')\n",
    "\n",
    "# ax.set_xlim(1,1000)\n",
    "# ax.set_ylim(10**(-5),1.2)\n",
    "\n",
    "ax.set_xlabel(r'$x$')#,labelpad=0)\n",
    "ax.set_ylabel(r'$p(x)$')\n",
    "\n",
    "x_annot_formula = 0.6\n",
    "y_annot_formula = 0.6\n",
    "ax.annotate(r'$\\propto x^{-\\alpha}$',xy=(x_annot_formula,y_annot_formula),xycoords = 'axes fraction')#,size=8)"
   ]
  },
  {
   "cell_type": "code",
   "execution_count": null,
   "metadata": {
    "collapsed": true,
    "jupyter": {
     "outputs_hidden": true
    }
   },
   "outputs": [],
   "source": []
  },
  {
   "cell_type": "code",
   "execution_count": null,
   "metadata": {
    "collapsed": true,
    "jupyter": {
     "outputs_hidden": true
    }
   },
   "outputs": [],
   "source": []
  },
  {
   "cell_type": "markdown",
   "metadata": {},
   "source": [
    "# As a function of datasize\n",
    "\n",
    "### KS- distance\n",
    "\n",
    "### fitted exponent $\\hat{\\alpha}$\n",
    "\n",
    "We generate synthetic datasets of different length.\n",
    "\n",
    "We fit a powerlaw and get the KS-distance and the powerlaw-exponent.\n",
    "\n",
    "Note this could take a while to run. "
   ]
  },
  {
   "cell_type": "code",
   "execution_count": 73,
   "metadata": {},
   "outputs": [],
   "source": [
    "n = 10 # number of realizations; in the paper we choose n = 100\n",
    "list_mu = [0.01,1.0] ## correlated and uncorrelated case\n",
    "\n",
    "\n",
    "label = 'mcmc_zipf'\n",
    "k = 5 ## number of neighbors for correlated step\n",
    "Ntypes = 10**3 ## maximum number of symbols\n",
    "# Ntokens = 10**5 ## number of samples\n",
    "alpha = 1.5 ## powerlaw exponent\n",
    "\n",
    "\n",
    "## vary Ntokens\n",
    "n_Nmax = 15\n",
    "n_Nmin=5\n",
    "list_Ntokens = np.logspace(n_Nmin,n_Nmax,n_Nmax-n_Nmin+1,base=2).astype('int')\n",
    "Nmax = list_Ntokens[-1]\n",
    "\n",
    "xmin = 1\n",
    "xmax = Ntypes"
   ]
  },
  {
   "cell_type": "code",
   "execution_count": 74,
   "metadata": {},
   "outputs": [],
   "source": [
    "arr_KS = np.zeros(( n, len(list_Ntokens),len(list_mu) ))\n",
    "arr_alpha = np.zeros(( n, len(list_Ntokens),len(list_mu) ))\n",
    "for i_mu , mu in enumerate(list_mu):\n",
    "    for i_n in range(n):\n",
    "        dict_args = {'Ntypes':Ntypes,\n",
    "                     'Ntokens':Nmax,\n",
    "                     'alpha':alpha,\n",
    "                     'mu':mu,\n",
    "                     'k':k,\n",
    "                      'src_dir':src_dir,\n",
    "                 }\n",
    "        x_data = get_xdata_ts_wrapper(label,dict_args)\n",
    "        for i_Ntokens,Ntokens in enumerate(list_Ntokens):\n",
    "            x_data_tmp = x_data[:Ntokens]\n",
    "            x,nx = xdata_to_xnx(x_data_tmp,norm=False,xmin=xmin,xmax=xmax)\n",
    "            result = fit_power_disc_sign(x,nx,xmin=xmin,xmax=xmax)\n",
    "            alpha = result['alpha']\n",
    "            KS = result['KS']\n",
    "            arr_KS[i_n,i_Ntokens,i_mu] = KS\n",
    "            arr_alpha[i_n,i_Ntokens,i_mu] = alpha"
   ]
  },
  {
   "cell_type": "code",
   "execution_count": 77,
   "metadata": {},
   "outputs": [
    {
     "data": {
      "text/plain": [
       "Text(0.6,0.6,'$\\\\propto N^{-1/2}$')"
      ]
     },
     "execution_count": 77,
     "metadata": {},
     "output_type": "execute_result"
    },
    {
     "data": {
      "image/png": "[encoded data removed]",
      "text/plain": [
       "<matplotlib.figure.Figure at 0x7ff46a0d2898>"
      ]
     },
     "metadata": {},
     "output_type": "display_data"
    }
   ],
   "source": [
    "## plot the KS-distance\n",
    "fig, ax = plt.subplots(nrows=1, ncols=1)#, figsize=fig_size)\n",
    "\n",
    "# ax_in.set_xticklabels([])\n",
    "for i_mu,mu in enumerate(list_mu):\n",
    "   \n",
    "    x_ = list_Ntokens\n",
    "    Z = arr_KS[:,:,i_mu]\n",
    "    y_ = np.mean(Z,axis=0)\n",
    "    y1_,y2_ = np.percentile(Z,q=[5,95],axis=0)\n",
    "    c_ = cmap(i_mu)\n",
    "    if mu == 1.:\n",
    "        l_ = 'Uncorrelated Data'\n",
    "    else:\n",
    "        l_ = 'Correlated Data'\n",
    "    ax.plot(x_,y_,marker='o',ms=1,lw=lw,c = c_,label=l_,alpha=alpha_val)\n",
    "    ax.fill_between(x_,y1_,y2_,color=c_,alpha=0.5,lw=0)\n",
    "\n",
    "ax.plot(x_,5*x_**(-0.5),ls=':',color='black')\n",
    "\n",
    "ax.set_xscale('log')\n",
    "ax.set_yscale('log')\n",
    "\n",
    "ax.set_xticks([10**2,10**3,10**4,10**5,10**6])\n",
    "# ax.set_ylim(0.5*10**(-4),10**0)\n",
    "\n",
    "ax.set_xlabel(r'$N$')\n",
    "ax.set_ylabel(r'$KS$')\n",
    "\n",
    "ax.legend()\n",
    "\n",
    "ax.annotate(r'$\\propto N^{-1/2}$',xy=(0.6,0.6),xycoords = 'axes fraction')"
   ]
  },
  {
   "cell_type": "code",
   "execution_count": 78,
   "metadata": {},
   "outputs": [
    {
     "data": {
      "text/plain": [
       "<matplotlib.legend.Legend at 0x7ff469f19c88>"
      ]
     },
     "execution_count": 78,
     "metadata": {},
     "output_type": "execute_result"
    },
    {
     "data": {
      "image/png": "[encoded data removed]",
      "text/plain": [
       "<matplotlib.figure.Figure at 0x7ff469f56f98>"
      ]
     },
     "metadata": {},
     "output_type": "display_data"
    }
   ],
   "source": [
    "## plot the fitted exponent\n",
    "fig, ax = plt.subplots(nrows=1, ncols=1)#, figsize=fig_size)\n",
    "\n",
    "# ax_in.set_xticklabels([])\n",
    "for i_mu,mu in enumerate(list_mu):\n",
    "   \n",
    "    x_ = list_Ntokens\n",
    "    Z = arr_alpha[:,:,i_mu]\n",
    "    y_ = np.mean(Z,axis=0)\n",
    "    y1_,y2_ = np.percentile(Z,q=[5,95],axis=0)\n",
    "    c_ = cmap(i_mu)\n",
    "    if mu == 1.:\n",
    "        l_ = 'Uncorrelated Data'\n",
    "    else:\n",
    "        l_ = 'Correlated Data'\n",
    "    ax.plot(x_,y_,marker='o',ms=1,lw=lw,c = c_,label=l_,alpha=alpha_val)\n",
    "    ax.fill_between(x_,y1_,y2_,color=c_,alpha=0.5,lw=0)\n",
    "\n",
    "ax.plot(x_,alpha+0.0*x_,ls=':',color='black')\n",
    "\n",
    "ax.set_xscale('log')\n",
    "# ax.set_yscale('log')\n",
    "\n",
    "ax.set_xticks([10**2,10**3,10**4,10**5,10**6])\n",
    "ax.set_ylim(1,2)\n",
    "\n",
    "ax.set_xlabel(r'$N$')\n",
    "ax.set_ylabel(r'$\\hat{\\alpha}$')\n",
    "\n",
    "ax.legend()\n",
    "\n"
   ]
  },
  {
   "cell_type": "code",
   "execution_count": null,
   "metadata": {
    "collapsed": true,
    "jupyter": {
     "outputs_hidden": true
    }
   },
   "outputs": [],
   "source": []
  },
  {
   "cell_type": "code",
   "execution_count": null,
   "metadata": {
    "collapsed": true,
    "jupyter": {
     "outputs_hidden": true
    }
   },
   "outputs": [],
   "source": []
  },
  {
   "cell_type": "markdown",
   "metadata": {},
   "source": [
    "# Distribution of p-values\n",
    "\n",
    "We generate n_rep synthetic datasets. We fit each dataset according to the standard procedure and obtain an empirical p-value (based on n_rep_synth comparisons of independently drawn data using the fitted exponent).\n",
    "\n",
    "Since the null hypothesis is true (data comes from the powerlaw), we should obtain an approximately flat distribution of p-values.\n",
    "\n",
    "- for the original data, we get a peak at 0\n",
    "- for the decorrelated (subsampled) data, we get an approximately flat distribution\n",
    "\n",
    "\n",
    "Note, that this will probably take a while to run.\n"
   ]
  },
  {
   "cell_type": "code",
   "execution_count": 97,
   "metadata": {
    "collapsed": true,
    "jupyter": {
     "outputs_hidden": true
    }
   },
   "outputs": [],
   "source": [
    "n_rep = 100 # number of realizations; in the paper we choose n = 100\n",
    "n_rep_synth = 100 ## number of datasets for calculating the empirical p-value in each realization\n",
    "n_rep_auto = 100\n",
    "mu = 0.01\n",
    "\n",
    "label = 'mcmc_zipf'\n",
    "k = 5 ## number of neighbors for correlated step\n",
    "Ntypes = 10**3 ## maximum number of symbols\n",
    "Ntokens = 10**4 ## number of samples\n",
    "alpha = 1.5 ## powerlaw exponent\n",
    "\n",
    "xmin = 1\n",
    "xmax = Ntypes\n",
    "\n",
    "dict_args = {'Ntypes':Ntypes,\n",
    "             'Ntokens':Ntokens,\n",
    "             'alpha':alpha,\n",
    "             'mu':mu,\n",
    "             'k':k,\n",
    "             'src_dir':src_dir,\n",
    "             'log':False}"
   ]
  },
  {
   "cell_type": "code",
   "execution_count": 98,
   "metadata": {},
   "outputs": [],
   "source": [
    "list_pval = []\n",
    "list_pval_sub = []\n",
    "\n",
    "for i_n_rep in range(n_rep):\n",
    "    ## draw the data\n",
    "    x_data = get_xdata_ts_wrapper(label,dict_args)\n",
    "    \n",
    "    ## fit the data to get a p-value\n",
    "    x,nx = xdata_to_xnx(x_data,norm=False,xmin=xmin,xmax=xmax)\n",
    "    result = fit_power_disc_sign(x,nx,xmin=xmin,xmax=xmax,\n",
    "                                     nrep_synth=n_rep_synth)\n",
    "    pval = result['pval']\n",
    "    list_pval += [pval]\n",
    "    \n",
    "    ## estimate correlation and subsample\n",
    "    tau = determine_tau(x_data,nrep=n_rep_auto)\n",
    "    N_sub = int(Ntokens/tau)\n",
    "    x_data_sub = np.random.choice(x_data,size = N_sub, replace=False)\n",
    "    ## fit the subsampled data to get a p-value\n",
    "    x,nx = xdata_to_xnx(x_data_sub,norm=False,xmin=xmin,xmax=xmax)\n",
    "    result = fit_power_disc_sign(x,nx,xmin=xmin,xmax=xmax,\n",
    "                                     nrep_synth=n_rep_synth)\n",
    "    pval = result['pval']\n",
    "    list_pval_sub += [pval]\n",
    "    "
   ]
  },
  {
   "cell_type": "code",
   "execution_count": 100,
   "metadata": {},
   "outputs": [
    {
     "data": {
      "text/plain": [
       "Text(0.5,0,'p-value')"
      ]
     },
     "execution_count": 100,
     "metadata": {},
     "output_type": "execute_result"
    },
    {
     "data": {
      "image/png": "[encoded data removed]",
      "text/plain": [
       "<matplotlib.figure.Figure at 0x7ff469e15ba8>"
      ]
     },
     "metadata": {},
     "output_type": "display_data"
    }
   ],
   "source": [
    "bins = np.linspace(0.0,1.0,21)\n",
    "\n",
    "## plot the fitted exponent\n",
    "fig, ax = plt.subplots(nrows=1, ncols=1)#, figsize=fig_size)\n",
    "\n",
    "## correlated\n",
    "H,edges = np.histogram(list_pval,bins=bins)\n",
    "H = np.append(H,0)\n",
    "H = H/float(n_rep)\n",
    "ax.step(edges,H,where='post',label='Original Data' )\n",
    "\n",
    "## de-correlated\n",
    "H,edges = np.histogram(list_pval_sub,bins=bins)\n",
    "H = np.append(H,0)\n",
    "H = H/float(n_rep)\n",
    "ax.step(edges,H,where='post',label='Decorrelated Data' )\n",
    "\n",
    "ax.plot([0.,1],[1/(len(bins)-1),1/(len(bins)-1)],lw=1,ls=':',color='black')\n",
    "\n",
    "ax.legend(loc='upper center',frameon=False)\n",
    "ax.set_ylabel('P(p-value)')\n",
    "ax.set_xlabel('p-value',labelpad=0)"
   ]
  },
  {
   "cell_type": "code",
   "execution_count": null,
   "metadata": {
    "collapsed": true,
    "jupyter": {
     "outputs_hidden": true
    }
   },
   "outputs": [],
   "source": []
  }
 ],
 "metadata": {
  "kernelspec": {
   "display_name": "Python 3 (ipykernel)",
   "language": "python",
   "name": "python3"
  },
  "language_info": {
   "codemirror_mode": {
    "name": "ipython",
    "version": 3
   },
   "file_extension": ".py",
   "mimetype": "text/x-python",
   "name": "python",
   "nbconvert_exporter": "python",
   "pygments_lexer": "ipython3",
   "version": "3.11.5"
  }
 },
 "nbformat": 4,
 "nbformat_minor": 4
}
